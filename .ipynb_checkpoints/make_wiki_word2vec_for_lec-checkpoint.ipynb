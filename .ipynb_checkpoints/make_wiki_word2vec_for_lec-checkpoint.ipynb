{
 "cells": [
  {
   "cell_type": "markdown",
   "metadata": {
    "colab_type": "text",
    "id": "9PSzGoMJ9PWM"
   },
   "source": [
    "# google driveをマウント（今回はGoogle colabは使用しない）"
   ]
  },
  {
   "cell_type": "code",
   "execution_count": null,
   "metadata": {
    "colab": {
     "base_uri": "https://localhost:8080/",
     "height": 191
    },
    "colab_type": "code",
    "collapsed": true,
    "id": "zj7-oXGBcUxx",
    "outputId": "747de2f3-7bf2-4d57-ad9f-b46ee6de8535"
   },
   "outputs": [],
   "source": [
    "#from google.colab import drive\n",
    "#drive.mount('/content/drive')"
   ]
  },
  {
   "cell_type": "markdown",
   "metadata": {
    "colab_type": "text",
    "id": "YjMT_DPq9SfI"
   },
   "source": [
    "# 必要なライブラリをインストール（既にインストール済み）"
   ]
  },
  {
   "cell_type": "code",
   "execution_count": null,
   "metadata": {
    "colab": {
     "base_uri": "https://localhost:8080/",
     "height": 354
    },
    "colab_type": "code",
    "collapsed": true,
    "id": "llvkqzsWcdQa",
    "outputId": "78900f46-4f9e-4e66-909b-32d3b06a18fc"
   },
   "outputs": [],
   "source": [
    "#!pip install gensim"
   ]
  },
  {
   "cell_type": "code",
   "execution_count": null,
   "metadata": {
    "colab": {
     "base_uri": "https://localhost:8080/",
     "height": 235
    },
    "colab_type": "code",
    "collapsed": true,
    "id": "6ZMVtj9_eUgc",
    "outputId": "4f69a6b4-1de6-40cb-f9b3-cf16618f0024"
   },
   "outputs": [],
   "source": [
    "#!pip install --upgrade h5py"
   ]
  },
  {
   "cell_type": "code",
   "execution_count": null,
   "metadata": {
    "collapsed": true
   },
   "outputs": [],
   "source": [
    "#!pip install mecab-python3"
   ]
  },
  {
   "cell_type": "markdown",
   "metadata": {
    "colab_type": "text",
    "id": "qHlx3tdg9XJ8"
   },
   "source": [
    "# 独自のwikiモデルを構築して使用する場合（今回は使用しない）\n",
    "WIKI_TXT_FILEPATHは学習に使うテキストファイルのパスに変更してください<br>\n",
    "WIKI_MODELは保存したいファイルパスへ変更してください"
   ]
  },
  {
   "cell_type": "code",
   "execution_count": null,
   "metadata": {
    "colab": {
     "base_uri": "https://localhost:8080/",
     "height": 1357
    },
    "colab_type": "code",
    "collapsed": true,
    "id": "F4fjmWjvcZEv",
    "outputId": "24c25bba-bb13-416d-902a-c1320dd7e9b3"
   },
   "outputs": [],
   "source": [
    "from gensim.models import Word2Vec\n",
    "from gensim.models import word2vec\n",
    "\n",
    "WIKI_TXT_FILEPATH = './sample.txt'\n",
    "WIKI_MODEL = './wiki.model'\n",
    "\n",
    "data = word2vec.LineSentence(WIKI_TXT_FILEPATH)\n",
    "model = Word2Vec(data, sg=1, size=200, min_count=1, window=15, iter=3)\n",
    "model.save(WIKI_MODEL)"
   ]
  },
  {
   "cell_type": "code",
   "execution_count": null,
   "metadata": {},
   "outputs": [
    {
     "name": "stderr",
     "output_type": "stream",
     "text": [
      "/anaconda3/lib/python3.6/site-packages/ipykernel_launcher.py:4: DeprecationWarning: Call to deprecated `most_similar` (Method will be removed in 4.0.0, use self.wv.most_similar() instead).\n",
      "  after removing the cwd from sys.path.\n"
     ]
    },
    {
     "data": {
      "text/plain": [
       "[('ブラック', 0.08793827146291733),\n",
       " ('授業', 0.02611410990357399),\n",
       " ('課題', -0.018301742151379585)]"
      ]
     },
     "execution_count": 12,
     "metadata": {},
     "output_type": "execute_result"
    }
   ],
   "source": [
    "MY_MODEL = './wiki.model'\n",
    "model = Word2Vec.load(MY_MODEL)\n",
    "\n",
    "model.most_similar('論文')"
   ]
  },
  {
   "cell_type": "markdown",
   "metadata": {
    "colab_type": "text",
    "id": "oExpvEIJ9ZQC"
   },
   "source": [
    "# 既存のモデルを読み込んで使用する場合（KAMERIO_MODELを利用）\n",
    "KAMERIO_MODELにモデルファイルのパスへ変更してください"
   ]
  },
  {
   "cell_type": "code",
   "execution_count": null,
   "metadata": {
    "collapsed": true
   },
   "outputs": [],
   "source": [
    "import gensim\n",
    "\n",
    "KAMERIO_MODEL = './latest-ja-word2vec-gensim-model/word2vec.gensim.model'\n",
    "model = gensim.models.Word2Vec.load(KAMERIO_MODEL)"
   ]
  },
  {
   "cell_type": "code",
   "execution_count": null,
   "metadata": {
    "colab": {
     "base_uri": "https://localhost:8080/",
     "height": 241
    },
    "colab_type": "code",
    "id": "SEs0geE5wE2V",
    "outputId": "2f57e6f7-2f3e-4958-84cc-7a3120496711"
   },
   "outputs": [
    {
     "name": "stderr",
     "output_type": "stream",
     "text": [
      "/anaconda3/lib/python3.6/site-packages/ipykernel_launcher.py:3: DeprecationWarning: Call to deprecated `most_similar` (Method will be removed in 4.0.0, use self.wv.most_similar() instead).\n",
      "  This is separate from the ipykernel package so we can avoid doing imports until\n"
     ]
    },
    {
     "data": {
      "text/plain": [
       "[('リヨン', 0.7790032625198364),\n",
       " ('パリ', 0.7719166874885559),\n",
       " ('ハンブルク', 0.74232017993927),\n",
       " ('ミュンヘン', 0.7405380010604858),\n",
       " ('ケルン', 0.7355622053146362),\n",
       " ('ライプツィヒ', 0.7291321754455566),\n",
       " ('フランクフルト', 0.7172220945358276),\n",
       " ('ブリュッセル', 0.714076042175293),\n",
       " ('ロンドン', 0.7117682695388794),\n",
       " ('ミラノ', 0.7100813388824463)]"
      ]
     },
     "execution_count": 18,
     "metadata": {},
     "output_type": "execute_result"
    }
   ],
   "source": [
    "#model.most_similar('クリスマス')\n",
    "#model.most_similar('スマホ')\n",
    "model.most_similar(positive=['東京','フランス'],negative=['日本']) # 東京+フランス-日本\n",
    "#model.most_similar(positive=['木','イルミネーション'])\n",
    "#model.most_similar(positive=['おじさん','プレゼント','トナカイ','クリスマス'])"
   ]
  },
  {
   "cell_type": "markdown",
   "metadata": {},
   "source": [
    "# 答案その１\n",
    "## 大喜利"
   ]
  },
  {
   "cell_type": "markdown",
   "metadata": {},
   "source": [
    "### 1 A：こんな忍者は嫌だ\n",
    "### 2 B：[飛び道具]が[ショットガン]\n",
    "### 3 B：[安全基準]が[宇宙服]\n",
    "### 4 A：装備が現代的"
   ]
  },
  {
   "cell_type": "code",
   "execution_count": null,
   "metadata": {},
   "outputs": [
    {
     "name": "stderr",
     "output_type": "stream",
     "text": [
      "/anaconda3/lib/python3.6/site-packages/ipykernel_launcher.py:1: DeprecationWarning: Call to deprecated `most_similar` (Method will be removed in 4.0.0, use self.wv.most_similar() instead).\n",
      "  \"\"\"Entry point for launching an IPython kernel.\n"
     ]
    },
    {
     "data": {
      "text/plain": [
       "[('重り', 0.7952314615249634),\n",
       " ('カッター', 0.794409453868866),\n",
       " ('グレネード', 0.7656809687614441),\n",
       " ('散弾', 0.7494279146194458),\n",
       " ('サーベル', 0.748143196105957),\n",
       " ('シャベル', 0.7472308278083801),\n",
       " ('ハンマー', 0.7388764023780823),\n",
       " ('錘', 0.7268040776252747),\n",
       " ('ショットガン', 0.7252992987632751),\n",
       " ('飛び道具', 0.7230545878410339)]"
      ]
     },
     "execution_count": 10,
     "metadata": {},
     "output_type": "execute_result"
    }
   ],
   "source": [
    "model.most_similar(positive=['武器','手裏剣'],negative=['忍者'])"
   ]
  },
  {
   "cell_type": "code",
   "execution_count": null,
   "metadata": {},
   "outputs": [
    {
     "name": "stderr",
     "output_type": "stream",
     "text": [
      "/anaconda3/lib/python3.6/site-packages/ipykernel_launcher.py:1: DeprecationWarning: Call to deprecated `most_similar` (Method will be removed in 4.0.0, use self.wv.most_similar() instead).\n",
      "  \"\"\"Entry point for launching an IPython kernel.\n"
     ]
    },
    {
     "data": {
      "text/plain": [
       "[('実銃', 0.6826297044754028),\n",
       " ('電子機器', 0.6222319006919861),\n",
       " ('銃火器', 0.6117474436759949),\n",
       " ('宇宙服', 0.6067225933074951),\n",
       " ('腕時計', 0.6056311130523682),\n",
       " ('義肢', 0.605582594871521),\n",
       " ('磁気テープ', 0.5958994626998901),\n",
       " ('安全基準', 0.5955926179885864),\n",
       " ('ロールフィルム', 0.592574954032898),\n",
       " ('エアガン', 0.5918134450912476)]"
      ]
     },
     "execution_count": 14,
     "metadata": {},
     "output_type": "execute_result"
    }
   ],
   "source": [
    "model.most_similar(positive=['武器','手裏剣','日本'],negative=['忍者','伊賀'])"
   ]
  },
  {
   "cell_type": "markdown",
   "metadata": {},
   "source": [
    "# 答案その２\n",
    "## こんな桃太郎は嫌だ"
   ]
  },
  {
   "cell_type": "markdown",
   "metadata": {},
   "source": [
    "### 1 A：おじいさんとおばあさんがセレブ\n",
    "### 2 A：吉備団子の代わりが[キットカット]\n",
    "### 3 A：お供が[スヌーピー]\n",
    "### 4 A：お供が[リラックマ]"
   ]
  },
  {
   "cell_type": "code",
   "execution_count": null,
   "metadata": {},
   "outputs": [
    {
     "name": "stderr",
     "output_type": "stream",
     "text": [
      "/anaconda3/lib/python3.6/site-packages/ipykernel_launcher.py:1: DeprecationWarning: Call to deprecated `most_similar` (Method will be removed in 4.0.0, use self.wv.most_similar() instead).\n",
      "  \"\"\"Entry point for launching an IPython kernel.\n"
     ]
    },
    {
     "data": {
      "text/plain": [
       "[('ソックリ', 0.8014681935310364),\n",
       " ('リラックマ', 0.7693617343902588),\n",
       " ('チャールズ・M・シュルツ', 0.7642983198165894),\n",
       " ('ファンシー', 0.7624194025993347),\n",
       " ('カメラ小僧', 0.7611597776412964),\n",
       " ('キットカット', 0.7548453211784363),\n",
       " ('アイドル時代', 0.7523988485336304),\n",
       " ('スヌーピー', 0.7495381832122803),\n",
       " ('デコトラ', 0.748473048210144),\n",
       " ('アンティークショップ', 0.7460117340087891)]"
      ]
     },
     "execution_count": 64,
     "metadata": {},
     "output_type": "execute_result"
    }
   ],
   "source": [
    "model.most_similar(positive=['セレブ','桃太郎','吉備団子'],negative=['鬼'])"
   ]
  },
  {
   "cell_type": "markdown",
   "metadata": {},
   "source": [
    "# 答案その３\n",
    "## 失ったもの"
   ]
  },
  {
   "cell_type": "markdown",
   "metadata": {},
   "source": [
    "### 1 A：今の私と[学部]の頃の私の違いは何だろう？\n",
    "### 2 A：せや！word2vecに教えてもらおう！\n",
    "### 3 A：修士課程マイナス学士は・・・\n",
    "### 4 B：word2vec「[青春ストーリー]」"
   ]
  },
  {
   "cell_type": "code",
   "execution_count": null,
   "metadata": {},
   "outputs": [
    {
     "name": "stderr",
     "output_type": "stream",
     "text": [
      "/anaconda3/lib/python3.6/site-packages/ipykernel_launcher.py:1: DeprecationWarning: Call to deprecated `most_similar` (Method will be removed in 4.0.0, use self.wv.most_similar() instead).\n",
      "  \"\"\"Entry point for launching an IPython kernel.\n",
      "/anaconda3/lib/python3.6/site-packages/gensim/matutils.py:737: FutureWarning: Conversion of the second argument of issubdtype from `int` to `np.signedinteger` is deprecated. In future, it will be treated as `np.int64 == np.dtype(int).type`.\n",
      "  if np.issubdtype(vec.dtype, np.int):\n"
     ]
    },
    {
     "data": {
      "text/plain": [
       "[('同学', 0.7153930068016052),\n",
       " ('学生新聞', 0.702073335647583),\n",
       " ('高等教育機関', 0.6849215626716614),\n",
       " ('インターナショナルスクール', 0.6841228008270264),\n",
       " ('体育大学', 0.6821768283843994),\n",
       " ('ダートマス大学', 0.6807028651237488),\n",
       " ('学部', 0.6745302081108093),\n",
       " ('私立大学', 0.6711892485618591),\n",
       " ('美術大学', 0.6706027984619141),\n",
       " ('ウィンチェスター・カレッジ', 0.6705052256584167)]"
      ]
     },
     "execution_count": 7,
     "metadata": {},
     "output_type": "execute_result"
    }
   ],
   "source": [
    "model.most_similar(positive=['大学'],negative=['失う'])"
   ]
  },
  {
   "cell_type": "code",
   "execution_count": null,
   "metadata": {},
   "outputs": [
    {
     "name": "stderr",
     "output_type": "stream",
     "text": [
      "/anaconda3/lib/python3.6/site-packages/ipykernel_launcher.py:1: DeprecationWarning: Call to deprecated `most_similar` (Method will be removed in 4.0.0, use self.wv.most_similar() instead).\n",
      "  \"\"\"Entry point for launching an IPython kernel.\n"
     ]
    },
    {
     "data": {
      "text/plain": [
       "[('104話', 0.596569836139679),\n",
       " ('70話', 0.585558295249939),\n",
       " ('テレ朝動画', 0.574832022190094),\n",
       " ('10話', 0.5676131248474121),\n",
       " ('FOXライフ', 0.5516574382781982),\n",
       " ('61話', 0.5419192314147949),\n",
       " ('62分', 0.5300495028495789),\n",
       " ('青春ストーリー', 0.5283129215240479),\n",
       " ('52話', 0.5274899005889893),\n",
       " ('6話', 0.523093581199646)]"
      ]
     },
     "execution_count": 43,
     "metadata": {},
     "output_type": "execute_result"
    }
   ],
   "source": [
    "model.most_similar(positive=['修士課程'],negative=['学士'])"
   ]
  },
  {
   "cell_type": "markdown",
   "metadata": {},
   "source": [
    "# MeCabの利用その１（今回は使用しない）"
   ]
  },
  {
   "cell_type": "code",
   "execution_count": null,
   "metadata": {},
   "outputs": [
    {
     "name": "stdout",
     "output_type": "stream",
     "text": [
      "今日\t名詞,副詞可能,*,*,*,*,今日,キョウ,キョー\n",
      "は\t助詞,係助詞,*,*,*,*,は,ハ,ワ\n",
      "いい\t形容詞,自立,*,*,形容詞・イイ,基本形,いい,イイ,イイ\n",
      "天気\t名詞,一般,*,*,*,*,天気,テンキ,テンキ\n",
      "です\t助動詞,*,*,*,特殊・デス,基本形,です,デス,デス\n",
      "ね\t助詞,終助詞,*,*,*,*,ね,ネ,ネ\n",
      "EOS\n",
      "\n"
     ]
    }
   ],
   "source": [
    "import MeCab\n",
    "\n",
    "mecab = MeCab.Tagger ('-d /usr/local/lib/mecab/dic/mecab-ipadic-neologd')\n",
    "#mecab = MeCab.Tagger(\"-Ochasen\")\n",
    "\n",
    "text = '今日はいい天気ですね'\n",
    "mecab.parse('') #空文字をparseする\n",
    "print(mecab.parse(text))"
   ]
  },
  {
   "cell_type": "markdown",
   "metadata": {},
   "source": [
    "# これはpipで最新版のMeCabを入れた時のバグ"
   ]
  },
  {
   "cell_type": "code",
   "execution_count": null,
   "metadata": {},
   "outputs": [
    {
     "data": {
      "text/plain": [
       "['これはテストです', 'これはテストです', 'はテストです', 'テストです', 'です', '']"
      ]
     },
     "execution_count": 167,
     "metadata": {},
     "output_type": "execute_result"
    }
   ],
   "source": [
    "def init_mecab(dic_path=''):\n",
    "    arg = ''\n",
    "    if dic_path:\n",
    "        arg = '-d ' + dic_path\n",
    "    m = MeCab.Tagger(arg)\n",
    "    m.parseToNode('')  # バグ対策で空打ちする\n",
    "    return m\n",
    "\n",
    "\n",
    "def tokenize_mecab(text, m):\n",
    "    mecab_nodes = m.parseToNode(text)\n",
    "    surfaces = []\n",
    "    while mecab_nodes:\n",
    "        surfaces.append(mecab_nodes.surface)  # surfaceで表層形、featureで形態素情報\n",
    "        mecab_nodes = mecab_nodes.next  # nextを忘れない\n",
    "    return surfaces\n",
    "\n",
    "text = 'これはテストです'\n",
    "m = init_mecab()\n",
    "token = tokenize_mecab(text, m)\n",
    "token"
   ]
  },
  {
   "cell_type": "code",
   "execution_count": null,
   "metadata": {},
   "outputs": [
    {
     "name": "stdout",
     "output_type": "stream",
     "text": [
      "今日はいい天気ですね\n",
      "今日はいい天気ですね\n",
      "はいい天気ですね\n",
      "いい天気ですね\n",
      "天気ですね\n",
      "ですね\n",
      "ね\n",
      "\n"
     ]
    }
   ],
   "source": [
    "node = mecab.parseToNode(text)\n",
    "while node:\n",
    "    print(node.surface)\n",
    "    node = node.next"
   ]
  },
  {
   "cell_type": "code",
   "execution_count": null,
   "metadata": {},
   "outputs": [
    {
     "name": "stdout",
     "output_type": "stream",
     "text": [
      "今日はいい天気ですね , BOS/EOS , *\n",
      "今日はいい天気ですね , 名詞 , 副詞可能\n",
      "はいい天気ですね , 助詞 , 係助詞\n",
      "いい天気ですね , 形容詞 , 自立\n",
      "天気ですね , 名詞 , 一般\n",
      "ですね , 助動詞 , *\n",
      "ね , 助詞 , 終助詞\n",
      " , BOS/EOS , *\n"
     ]
    }
   ],
   "source": [
    "import MeCab\n",
    "\n",
    "mecab = MeCab.Tagger ('-d /usr/local/lib/mecab/dic/mecab-ipadic-neologd')\n",
    "#mecab = MeCab.Tagger(\"-Ochasen\")\n",
    "\n",
    "text = '今日はいい天気ですね'\n",
    "mecab.parse('') #空文字をparseする\n",
    "\n",
    "node = mecab.parseToNode(text)\n",
    "while node:\n",
    "    #単語を取得\n",
    "    word = node.surface\n",
    "    #品詞を取得\n",
    "    hatena = node.feature.split(\",\")[0]\n",
    "    pos = node.feature.split(\",\")[1]\n",
    "    print('{0} , {1} , {2}'.format(word, hatena, pos))\n",
    "    #次の単語に進める\n",
    "    node = node.next"
   ]
  },
  {
   "cell_type": "markdown",
   "metadata": {},
   "source": [
    "- 参考：https://qiita.com/tatsuya-takahashi/items/18613dee168651ef8016"
   ]
  },
  {
   "cell_type": "code",
   "execution_count": null,
   "metadata": {
    "collapsed": true
   },
   "outputs": [],
   "source": [
    "import MeCab\n",
    "\n",
    "class_num = 0\n",
    "word_classes = boke_pattern[4]\n",
    "word_class = word_classes[class_num]\n",
    "def create_mecab_list(text):\n",
    "    mecab_list = []\n",
    "    mecab = MeCab.Tagger(\"-Ochasen\")\n",
    "    mecab.parse(\"\")#空文字をparseする\n",
    "    node = mecab.parseToNode(text)\n",
    "    \n",
    "    while node:\n",
    "        if len(node.surface) > 1:\n",
    "            if node.feature.split(\",\")[0] == word_class:\n",
    "                morpheme = node.surface\n",
    "                mecab_list.append(morpheme)\n",
    "        node = node.next\n",
    "    return mecab_list"
   ]
  },
  {
   "cell_type": "code",
   "execution_count": null,
   "metadata": {},
   "outputs": [
    {
     "data": {
      "text/plain": [
       "['授業が退屈なひと時', '退屈なひと時', 'ひと時']"
      ]
     },
     "execution_count": 129,
     "metadata": {},
     "output_type": "execute_result"
    }
   ],
   "source": [
    "results = create_mecab_list(\"授業が退屈なひと時\")\n",
    "results"
   ]
  },
  {
   "cell_type": "markdown",
   "metadata": {},
   "source": [
    "# 大喜利の生成（丁度良いボケのパターン）\n",
    "- 参考：http://bugrammer.hateblo.jp/entry/2015/04/25/140930"
   ]
  },
  {
   "cell_type": "code",
   "execution_count": null,
   "metadata": {
    "collapsed": true
   },
   "outputs": [],
   "source": [
    "boke_pattern = [\n",
    "    [u\"名詞\"],\n",
    "    [u\"名詞\", u\"名詞\"],\n",
    "    [u\"名詞\", u\"が\", u\"名詞\"],\n",
    "    [u\"名詞\", u\"が\", u\"動詞\"],\n",
    "    [u\"名詞\", u\"が\", u\"名詞\", u\"な\", u\"名詞\"],\n",
    "    [u\"名詞\", u\"が\", u\"名詞\", u\"助詞\", u\"動詞\"],\n",
    "]"
   ]
  },
  {
   "cell_type": "markdown",
   "metadata": {},
   "source": [
    "# MeCabの利用その２（今回は使用しない）"
   ]
  },
  {
   "cell_type": "code",
   "execution_count": null,
   "metadata": {},
   "outputs": [
    {
     "data": {
      "text/plain": [
       "['こんな\\tコンナ\\tこんな\\t連体詞\\t\\t',\n",
       " '探偵\\tタンテイ\\t探偵\\t名詞-サ変接続\\t\\t',\n",
       " 'は\\tハ\\tは\\t助詞-係助詞\\t\\t',\n",
       " '嫌\\tイヤ\\t嫌\\t名詞-形容動詞語幹\\t\\t',\n",
       " 'だ\\tダ\\tだ\\t助動詞\\t特殊・ダ\\t基本形',\n",
       " 'EOS',\n",
       " '']"
      ]
     },
     "execution_count": 177,
     "metadata": {},
     "output_type": "execute_result"
    }
   ],
   "source": [
    "text = \"こんな探偵は嫌だ\"\n",
    "result = tagger.parse(text).split('\\n')\n",
    "result"
   ]
  },
  {
   "cell_type": "code",
   "execution_count": null,
   "metadata": {},
   "outputs": [
    {
     "name": "stdout",
     "output_type": "stream",
     "text": [
      "['こんな', '探偵', 'は', '嫌', 'だ']\n",
      "['連体詞', '名詞-サ変接続', '助詞-係助詞', '名詞-形容動詞語幹', '助動詞']\n"
     ]
    }
   ],
   "source": [
    "import re\n",
    "\n",
    "ans1 = []\n",
    "ans2 = []\n",
    "for l in result[:-2]:\n",
    "    ans1.append(re.split(\"\\t\",l)[0])\n",
    "    ans2.append(re.split(\"\\t\",l)[3])\n",
    "print(ans1)\n",
    "print(ans2)"
   ]
  },
  {
   "cell_type": "code",
   "execution_count": null,
   "metadata": {},
   "outputs": [
    {
     "name": "stdout",
     "output_type": "stream",
     "text": [
      "こんな\tコンナ\tこんな\t連体詞\t\t\n",
      "探偵\tタンテイ\t探偵\t名詞-サ変接続\t\t\n",
      "は\tハ\tは\t助詞-係助詞\t\t\n",
      "嫌\tイヤ\t嫌\t名詞-形容動詞語幹\t\t\n",
      "だ\tダ\tだ\t助動詞\t特殊・ダ\t基本形\n",
      "EOS\n",
      "\n"
     ]
    }
   ],
   "source": [
    "import sys\n",
    "import MeCab\n",
    "m = MeCab.Tagger (\"-Ochasen\")\n",
    "print(m.parse (\"こんな探偵は嫌だ\"))"
   ]
  }
 ],
 "metadata": {
  "colab": {
   "name": "make_wiki_word2vec_for_lec.ipynb",
   "provenance": [],
   "version": "0.3.2"
  },
  "kernelspec": {
   "display_name": "Python 3",
   "language": "python",
   "name": "python3"
  },
  "language_info": {
   "codemirror_mode": {
    "name": "ipython",
    "version": 3
   },
   "file_extension": ".py",
   "mimetype": "text/x-python",
   "name": "python",
   "nbconvert_exporter": "python",
   "pygments_lexer": "ipython3",
   "version": "3.6.3"
  }
 },
 "nbformat": 4,
 "nbformat_minor": 1
}
